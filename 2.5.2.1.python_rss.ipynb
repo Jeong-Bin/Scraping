{
 "cells": [
  {
   "cell_type": "code",
   "execution_count": 28,
   "metadata": {},
   "outputs": [],
   "source": [
    "# 143"
   ]
  },
  {
   "cell_type": "markdown",
   "metadata": {},
   "source": [
    "## xml을 이용한 스크래핑"
   ]
  },
  {
   "cell_type": "code",
   "execution_count": 11,
   "metadata": {},
   "outputs": [],
   "source": [
    "# ElementTree 모듈을 로드 -> XML의 파서 중 하나\n",
    "from xml.etree import ElementTree"
   ]
  },
  {
   "cell_type": "code",
   "execution_count": 12,
   "metadata": {},
   "outputs": [],
   "source": [
    "# 기상청에서 rss문서를 rss.xml로 받기\n",
    "# http://www.weather.go.kr/weather/lifenindustry/sevice_rss.jsp\n",
    "# rss문서 연 다음 우클릭 - 다른 이름으로 저장 - .xml"
   ]
  },
  {
   "cell_type": "code",
   "execution_count": 13,
   "metadata": {},
   "outputs": [],
   "source": [
    "# parse() 함수로 파일을 읽고 ElementTree 객체를 생성\n",
    "tree = ElementTree.parse('rss.xml')"
   ]
  },
  {
   "cell_type": "code",
   "execution_count": 14,
   "metadata": {},
   "outputs": [],
   "source": [
    "# XML, HTML은 계층적(hierarchical) 구조이며 최상위를 root라고 부름\n",
    "# getroot() 메서드로 XML의 루트 element를 추출\n",
    "root = tree.getroot()  # root : 최상위.  getroot로 최상위 디렉토리를 찾음"
   ]
  },
  {
   "cell_type": "code",
   "execution_count": 15,
   "metadata": {},
   "outputs": [],
   "source": [
    "import pandas as pd  # pandas : 데이터프레임 전용 라이브러리"
   ]
  },
  {
   "cell_type": "code",
   "execution_count": 16,
   "metadata": {
    "scrolled": true
   },
   "outputs": [
    {
     "data": {
      "text/html": [
       "<div>\n",
       "<style scoped>\n",
       "    .dataframe tbody tr th:only-of-type {\n",
       "        vertical-align: middle;\n",
       "    }\n",
       "\n",
       "    .dataframe tbody tr th {\n",
       "        vertical-align: top;\n",
       "    }\n",
       "\n",
       "    .dataframe thead th {\n",
       "        text-align: right;\n",
       "    }\n",
       "</style>\n",
       "<table border=\"1\" class=\"dataframe\">\n",
       "  <thead>\n",
       "    <tr style=\"text-align: right;\">\n",
       "      <th></th>\n",
       "      <th>일시</th>\n",
       "      <th>최저기온</th>\n",
       "      <th>최고기온</th>\n",
       "      <th>날씨</th>\n",
       "    </tr>\n",
       "  </thead>\n",
       "  <tbody>\n",
       "    <tr>\n",
       "      <th>0</th>\n",
       "      <td>2021-07-17 00:00</td>\n",
       "      <td>24</td>\n",
       "      <td>32</td>\n",
       "      <td>구름많음</td>\n",
       "    </tr>\n",
       "    <tr>\n",
       "      <th>0</th>\n",
       "      <td>2021-07-17 12:00</td>\n",
       "      <td>24</td>\n",
       "      <td>32</td>\n",
       "      <td>구름많고 소나기</td>\n",
       "    </tr>\n",
       "    <tr>\n",
       "      <th>0</th>\n",
       "      <td>2021-07-18 00:00</td>\n",
       "      <td>24</td>\n",
       "      <td>33</td>\n",
       "      <td>맑음</td>\n",
       "    </tr>\n",
       "    <tr>\n",
       "      <th>0</th>\n",
       "      <td>2021-07-18 12:00</td>\n",
       "      <td>24</td>\n",
       "      <td>33</td>\n",
       "      <td>구름많음</td>\n",
       "    </tr>\n",
       "    <tr>\n",
       "      <th>0</th>\n",
       "      <td>2021-07-19 00:00</td>\n",
       "      <td>24</td>\n",
       "      <td>33</td>\n",
       "      <td>맑음</td>\n",
       "    </tr>\n",
       "    <tr>\n",
       "      <th>...</th>\n",
       "      <td>...</td>\n",
       "      <td>...</td>\n",
       "      <td>...</td>\n",
       "      <td>...</td>\n",
       "    </tr>\n",
       "    <tr>\n",
       "      <th>0</th>\n",
       "      <td>2021-07-21 00:00</td>\n",
       "      <td>23</td>\n",
       "      <td>32</td>\n",
       "      <td>맑음</td>\n",
       "    </tr>\n",
       "    <tr>\n",
       "      <th>0</th>\n",
       "      <td>2021-07-21 12:00</td>\n",
       "      <td>23</td>\n",
       "      <td>32</td>\n",
       "      <td>맑음</td>\n",
       "    </tr>\n",
       "    <tr>\n",
       "      <th>0</th>\n",
       "      <td>2021-07-22 00:00</td>\n",
       "      <td>23</td>\n",
       "      <td>31</td>\n",
       "      <td>구름많음</td>\n",
       "    </tr>\n",
       "    <tr>\n",
       "      <th>0</th>\n",
       "      <td>2021-07-23 00:00</td>\n",
       "      <td>23</td>\n",
       "      <td>32</td>\n",
       "      <td>맑음</td>\n",
       "    </tr>\n",
       "    <tr>\n",
       "      <th>0</th>\n",
       "      <td>2021-07-24 00:00</td>\n",
       "      <td>22</td>\n",
       "      <td>31</td>\n",
       "      <td>맑음</td>\n",
       "    </tr>\n",
       "  </tbody>\n",
       "</table>\n",
       "<p>455 rows × 4 columns</p>\n",
       "</div>"
      ],
      "text/plain": [
       "                  일시 최저기온 최고기온        날씨\n",
       "0   2021-07-17 00:00   24   32      구름많음\n",
       "0   2021-07-17 12:00   24   32  구름많고 소나기\n",
       "0   2021-07-18 00:00   24   33        맑음\n",
       "0   2021-07-18 12:00   24   33      구름많음\n",
       "0   2021-07-19 00:00   24   33        맑음\n",
       "..               ...  ...  ...       ...\n",
       "0   2021-07-21 00:00   23   32        맑음\n",
       "0   2021-07-21 12:00   23   32        맑음\n",
       "0   2021-07-22 00:00   23   31      구름많음\n",
       "0   2021-07-23 00:00   23   32        맑음\n",
       "0   2021-07-24 00:00   22   31        맑음\n",
       "\n",
       "[455 rows x 4 columns]"
      ]
     },
     "execution_count": 16,
     "metadata": {},
     "output_type": "execute_result"
    }
   ],
   "source": [
    "데이터프레임_리스트 = []\n",
    "for item in root.findall('channel/item/description/body/location/data'):  # findall : 루트부터 전체 디렉토리 찾기\n",
    "    # find() 메서드로 element 탐색, text 속성으로 값을 추출\n",
    "    tm_ef = item.find('tmEf').text  # 태그명을 확인하여 변수에 넣음\n",
    "    tmn = item.find('tmn').text\n",
    "    tmx = item.find('tmx').text\n",
    "    wf = item.find('wf').text\n",
    "    데이터프레임 = pd.DataFrame({     # 데이터프레임 형식으로 만듦\n",
    "        '일시':[tm_ef],\n",
    "        '최저기온':[tmn],\n",
    "        '최고기온':[tmx],\n",
    "        '날씨':[wf],\n",
    "    })\n",
    "    데이터프레임_리스트.append(데이터프레임)\n",
    "날씨정보 = pd.concat(데이터프레임_리스트)  # concat을 이용해 여러행을 합침\n",
    "날씨정보  "
   ]
  },
  {
   "cell_type": "code",
   "execution_count": 17,
   "metadata": {},
   "outputs": [
    {
     "data": {
      "text/plain": [
       "pandas.core.frame.DataFrame"
      ]
     },
     "execution_count": 17,
     "metadata": {},
     "output_type": "execute_result"
    }
   ],
   "source": [
    "type(날씨정보)"
   ]
  },
  {
   "cell_type": "code",
   "execution_count": 18,
   "metadata": {},
   "outputs": [],
   "source": [
    "날씨정보.to_csv('날씨정보.csv')"
   ]
  },
  {
   "cell_type": "code",
   "execution_count": 19,
   "metadata": {},
   "outputs": [],
   "source": [
    "엑셀 = pd.ExcelWriter('날씨정보.xlsx')\n",
    "날씨정보.to_excel(엑셀, '.', index=False )\n",
    "엑셀.save()"
   ]
  },
  {
   "cell_type": "code",
   "execution_count": null,
   "metadata": {},
   "outputs": [],
   "source": []
  },
  {
   "cell_type": "code",
   "execution_count": 20,
   "metadata": {},
   "outputs": [],
   "source": [
    "날씨정보.reset_index(drop=True, inplace=True)"
   ]
  },
  {
   "cell_type": "code",
   "execution_count": 21,
   "metadata": {},
   "outputs": [],
   "source": [
    "날씨정보.to_json('날씨정보.json')"
   ]
  },
  {
   "cell_type": "code",
   "execution_count": 22,
   "metadata": {},
   "outputs": [],
   "source": [
    "import sqlite3\n",
    "from pandas.io import sql\n",
    "import os"
   ]
  },
  {
   "cell_type": "code",
   "execution_count": 23,
   "metadata": {},
   "outputs": [],
   "source": [
    "with sqlite3.connect(os.path.join('.','sqliteDB')) as con: # sqlite DB 파일이 존재하지 않는 경우 파일생성\n",
    "    try:\n",
    "        날씨정보.to_sql(name = 'WEATHER_INFO', con = con, index = False, if_exists='append') \n",
    "        #if_exists : {'fail', 'replace', 'append'} default : fail\n",
    "    except Exception as e:\n",
    "        print(str(e))\n",
    "    \n",
    "    query = 'SELECT * FROM WEATHER_INFO'\n",
    "    데이터프레임1 = pd.read_sql(query, con = con)"
   ]
  },
  {
   "cell_type": "code",
   "execution_count": 24,
   "metadata": {},
   "outputs": [
    {
     "data": {
      "text/html": [
       "<div>\n",
       "<style scoped>\n",
       "    .dataframe tbody tr th:only-of-type {\n",
       "        vertical-align: middle;\n",
       "    }\n",
       "\n",
       "    .dataframe tbody tr th {\n",
       "        vertical-align: top;\n",
       "    }\n",
       "\n",
       "    .dataframe thead th {\n",
       "        text-align: right;\n",
       "    }\n",
       "</style>\n",
       "<table border=\"1\" class=\"dataframe\">\n",
       "  <thead>\n",
       "    <tr style=\"text-align: right;\">\n",
       "      <th></th>\n",
       "      <th>일시</th>\n",
       "      <th>최저기온</th>\n",
       "      <th>최고기온</th>\n",
       "      <th>날씨</th>\n",
       "    </tr>\n",
       "  </thead>\n",
       "  <tbody>\n",
       "    <tr>\n",
       "      <th>0</th>\n",
       "      <td>2021-07-17 00:00</td>\n",
       "      <td>24</td>\n",
       "      <td>32</td>\n",
       "      <td>구름많음</td>\n",
       "    </tr>\n",
       "    <tr>\n",
       "      <th>1</th>\n",
       "      <td>2021-07-17 12:00</td>\n",
       "      <td>24</td>\n",
       "      <td>32</td>\n",
       "      <td>구름많고 소나기</td>\n",
       "    </tr>\n",
       "    <tr>\n",
       "      <th>2</th>\n",
       "      <td>2021-07-18 00:00</td>\n",
       "      <td>24</td>\n",
       "      <td>33</td>\n",
       "      <td>맑음</td>\n",
       "    </tr>\n",
       "    <tr>\n",
       "      <th>3</th>\n",
       "      <td>2021-07-18 12:00</td>\n",
       "      <td>24</td>\n",
       "      <td>33</td>\n",
       "      <td>구름많음</td>\n",
       "    </tr>\n",
       "    <tr>\n",
       "      <th>4</th>\n",
       "      <td>2021-07-19 00:00</td>\n",
       "      <td>24</td>\n",
       "      <td>33</td>\n",
       "      <td>맑음</td>\n",
       "    </tr>\n",
       "    <tr>\n",
       "      <th>...</th>\n",
       "      <td>...</td>\n",
       "      <td>...</td>\n",
       "      <td>...</td>\n",
       "      <td>...</td>\n",
       "    </tr>\n",
       "    <tr>\n",
       "      <th>450</th>\n",
       "      <td>2021-07-21 00:00</td>\n",
       "      <td>23</td>\n",
       "      <td>32</td>\n",
       "      <td>맑음</td>\n",
       "    </tr>\n",
       "    <tr>\n",
       "      <th>451</th>\n",
       "      <td>2021-07-21 12:00</td>\n",
       "      <td>23</td>\n",
       "      <td>32</td>\n",
       "      <td>맑음</td>\n",
       "    </tr>\n",
       "    <tr>\n",
       "      <th>452</th>\n",
       "      <td>2021-07-22 00:00</td>\n",
       "      <td>23</td>\n",
       "      <td>31</td>\n",
       "      <td>구름많음</td>\n",
       "    </tr>\n",
       "    <tr>\n",
       "      <th>453</th>\n",
       "      <td>2021-07-23 00:00</td>\n",
       "      <td>23</td>\n",
       "      <td>32</td>\n",
       "      <td>맑음</td>\n",
       "    </tr>\n",
       "    <tr>\n",
       "      <th>454</th>\n",
       "      <td>2021-07-24 00:00</td>\n",
       "      <td>22</td>\n",
       "      <td>31</td>\n",
       "      <td>맑음</td>\n",
       "    </tr>\n",
       "  </tbody>\n",
       "</table>\n",
       "<p>455 rows × 4 columns</p>\n",
       "</div>"
      ],
      "text/plain": [
       "                   일시 최저기온 최고기온        날씨\n",
       "0    2021-07-17 00:00   24   32      구름많음\n",
       "1    2021-07-17 12:00   24   32  구름많고 소나기\n",
       "2    2021-07-18 00:00   24   33        맑음\n",
       "3    2021-07-18 12:00   24   33      구름많음\n",
       "4    2021-07-19 00:00   24   33        맑음\n",
       "..                ...  ...  ...       ...\n",
       "450  2021-07-21 00:00   23   32        맑음\n",
       "451  2021-07-21 12:00   23   32        맑음\n",
       "452  2021-07-22 00:00   23   31      구름많음\n",
       "453  2021-07-23 00:00   23   32        맑음\n",
       "454  2021-07-24 00:00   22   31        맑음\n",
       "\n",
       "[455 rows x 4 columns]"
      ]
     },
     "execution_count": 24,
     "metadata": {},
     "output_type": "execute_result"
    }
   ],
   "source": [
    "데이터프레임1"
   ]
  },
  {
   "cell_type": "code",
   "execution_count": 25,
   "metadata": {},
   "outputs": [],
   "source": [
    "엑셀 = pd.ExcelWriter('날씨정보2.xlsx')\n",
    "데이터프레임1.to_excel(엑셀, '.', index=False )\n",
    "엑셀.save()"
   ]
  },
  {
   "cell_type": "code",
   "execution_count": 26,
   "metadata": {},
   "outputs": [],
   "source": [
    "df = pd.read_excel('날씨정보2.xlsx')"
   ]
  },
  {
   "cell_type": "code",
   "execution_count": 27,
   "metadata": {},
   "outputs": [
    {
     "data": {
      "text/html": [
       "<div>\n",
       "<style scoped>\n",
       "    .dataframe tbody tr th:only-of-type {\n",
       "        vertical-align: middle;\n",
       "    }\n",
       "\n",
       "    .dataframe tbody tr th {\n",
       "        vertical-align: top;\n",
       "    }\n",
       "\n",
       "    .dataframe thead th {\n",
       "        text-align: right;\n",
       "    }\n",
       "</style>\n",
       "<table border=\"1\" class=\"dataframe\">\n",
       "  <thead>\n",
       "    <tr style=\"text-align: right;\">\n",
       "      <th></th>\n",
       "      <th>일시</th>\n",
       "      <th>최저기온</th>\n",
       "      <th>최고기온</th>\n",
       "      <th>날씨</th>\n",
       "    </tr>\n",
       "  </thead>\n",
       "  <tbody>\n",
       "    <tr>\n",
       "      <th>0</th>\n",
       "      <td>2021-07-17 00:00</td>\n",
       "      <td>24</td>\n",
       "      <td>32</td>\n",
       "      <td>구름많음</td>\n",
       "    </tr>\n",
       "    <tr>\n",
       "      <th>1</th>\n",
       "      <td>2021-07-17 12:00</td>\n",
       "      <td>24</td>\n",
       "      <td>32</td>\n",
       "      <td>구름많고 소나기</td>\n",
       "    </tr>\n",
       "    <tr>\n",
       "      <th>2</th>\n",
       "      <td>2021-07-18 00:00</td>\n",
       "      <td>24</td>\n",
       "      <td>33</td>\n",
       "      <td>맑음</td>\n",
       "    </tr>\n",
       "    <tr>\n",
       "      <th>3</th>\n",
       "      <td>2021-07-18 12:00</td>\n",
       "      <td>24</td>\n",
       "      <td>33</td>\n",
       "      <td>구름많음</td>\n",
       "    </tr>\n",
       "    <tr>\n",
       "      <th>4</th>\n",
       "      <td>2021-07-19 00:00</td>\n",
       "      <td>24</td>\n",
       "      <td>33</td>\n",
       "      <td>맑음</td>\n",
       "    </tr>\n",
       "    <tr>\n",
       "      <th>...</th>\n",
       "      <td>...</td>\n",
       "      <td>...</td>\n",
       "      <td>...</td>\n",
       "      <td>...</td>\n",
       "    </tr>\n",
       "    <tr>\n",
       "      <th>450</th>\n",
       "      <td>2021-07-21 00:00</td>\n",
       "      <td>23</td>\n",
       "      <td>32</td>\n",
       "      <td>맑음</td>\n",
       "    </tr>\n",
       "    <tr>\n",
       "      <th>451</th>\n",
       "      <td>2021-07-21 12:00</td>\n",
       "      <td>23</td>\n",
       "      <td>32</td>\n",
       "      <td>맑음</td>\n",
       "    </tr>\n",
       "    <tr>\n",
       "      <th>452</th>\n",
       "      <td>2021-07-22 00:00</td>\n",
       "      <td>23</td>\n",
       "      <td>31</td>\n",
       "      <td>구름많음</td>\n",
       "    </tr>\n",
       "    <tr>\n",
       "      <th>453</th>\n",
       "      <td>2021-07-23 00:00</td>\n",
       "      <td>23</td>\n",
       "      <td>32</td>\n",
       "      <td>맑음</td>\n",
       "    </tr>\n",
       "    <tr>\n",
       "      <th>454</th>\n",
       "      <td>2021-07-24 00:00</td>\n",
       "      <td>22</td>\n",
       "      <td>31</td>\n",
       "      <td>맑음</td>\n",
       "    </tr>\n",
       "  </tbody>\n",
       "</table>\n",
       "<p>455 rows × 4 columns</p>\n",
       "</div>"
      ],
      "text/plain": [
       "                   일시  최저기온  최고기온        날씨\n",
       "0    2021-07-17 00:00    24    32      구름많음\n",
       "1    2021-07-17 12:00    24    32  구름많고 소나기\n",
       "2    2021-07-18 00:00    24    33        맑음\n",
       "3    2021-07-18 12:00    24    33      구름많음\n",
       "4    2021-07-19 00:00    24    33        맑음\n",
       "..                ...   ...   ...       ...\n",
       "450  2021-07-21 00:00    23    32        맑음\n",
       "451  2021-07-21 12:00    23    32        맑음\n",
       "452  2021-07-22 00:00    23    31      구름많음\n",
       "453  2021-07-23 00:00    23    32        맑음\n",
       "454  2021-07-24 00:00    22    31        맑음\n",
       "\n",
       "[455 rows x 4 columns]"
      ]
     },
     "execution_count": 27,
     "metadata": {},
     "output_type": "execute_result"
    }
   ],
   "source": [
    "df"
   ]
  },
  {
   "cell_type": "code",
   "execution_count": null,
   "metadata": {},
   "outputs": [],
   "source": []
  }
 ],
 "metadata": {
  "kernelspec": {
   "display_name": "Python 3",
   "language": "python",
   "name": "python3"
  },
  "language_info": {
   "codemirror_mode": {
    "name": "ipython",
    "version": 3
   },
   "file_extension": ".py",
   "mimetype": "text/x-python",
   "name": "python",
   "nbconvert_exporter": "python",
   "pygments_lexer": "ipython3",
   "version": "3.8.8"
  }
 },
 "nbformat": 4,
 "nbformat_minor": 4
}
