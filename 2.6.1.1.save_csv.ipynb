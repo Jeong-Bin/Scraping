{
 "cells": [
  {
   "cell_type": "code",
   "execution_count": 3,
   "metadata": {},
   "outputs": [],
   "source": [
    "# 144"
   ]
  },
  {
   "cell_type": "markdown",
   "metadata": {},
   "source": [
    "## csv 파일 저장하는 2가지 방법\n",
    "### 방법1 : csv 모듈을 이용(지금 할 방법)\n",
    "### 방법2 : pandas를 이용(추천)"
   ]
  },
  {
   "cell_type": "code",
   "execution_count": 1,
   "metadata": {},
   "outputs": [],
   "source": [
    "import csv"
   ]
  },
  {
   "cell_type": "code",
   "execution_count": 2,
   "metadata": {},
   "outputs": [],
   "source": [
    "# with를 사용하면 close()를 하지 않아도 되기에 편리함\n",
    "# open으로 파일 읽기/쓰기\n",
    "# file open, newline=''으로 개행문자 지정\n",
    "with open('top_cities.csv', 'w', newline='') as f:\n",
    "    # csv.writer는 파일 객체를 매개변수로 지정\n",
    "    writer = csv.writer(f)  \n",
    "    # 첫 번째 줄에는 헤더를 작성합니다.\n",
    "    writer.writerow(['rank', 'city', 'population'])  \n",
    "    # writerows()에 리스트를 전달하면 여러 개의 값을 출력\n",
    "    writer.writerows([\n",
    "        [1, '상하이', 24150000],\n",
    "        [2, '카라치', 23500000],\n",
    "        [3, '베이징', 21516000],\n",
    "        [4, '텐진', 14722100],\n",
    "        [5, '이스탄불', 14160467],\n",
    "    ])"
   ]
  },
  {
   "cell_type": "code",
   "execution_count": null,
   "metadata": {},
   "outputs": [],
   "source": []
  }
 ],
 "metadata": {
  "kernelspec": {
   "display_name": "Python 3",
   "language": "python",
   "name": "python3"
  },
  "language_info": {
   "codemirror_mode": {
    "name": "ipython",
    "version": 3
   },
   "file_extension": ".py",
   "mimetype": "text/x-python",
   "name": "python",
   "nbconvert_exporter": "python",
   "pygments_lexer": "ipython3",
   "version": "3.8.8"
  }
 },
 "nbformat": 4,
 "nbformat_minor": 4
}
