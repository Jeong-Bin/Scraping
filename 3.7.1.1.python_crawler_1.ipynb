{
 "cells": [
  {
   "cell_type": "code",
   "execution_count": 1,
   "metadata": {},
   "outputs": [],
   "source": [
    "# 155"
   ]
  },
  {
   "cell_type": "markdown",
   "metadata": {},
   "source": [
    "## 목록 페이지에서 퍼머 링크 목록 추출_1\n",
    "- 책 제목의 하이퍼링크를 따라가서 url 가져오기"
   ]
  },
  {
   "cell_type": "code",
   "execution_count": 2,
   "metadata": {},
   "outputs": [],
   "source": [
    "import requests\n",
    "import lxml.html"
   ]
  },
  {
   "cell_type": "code",
   "execution_count": 3,
   "metadata": {},
   "outputs": [
    {
     "name": "stdout",
     "output_type": "stream",
     "text": [
      "/store/books/look.php?p_code=B7623190015\n",
      "/store/books/look.php?p_code=B7623190015\n",
      "/store/books/look.php?p_code=B4300598719\n",
      "javascript:;\n",
      "/store/books/look.php?p_code=B4300598719\n",
      "/store/books/look.php?p_code=B9108907099\n",
      "/store/books/look.php?p_code=B9108907099\n",
      "/store/books/look.php?p_code=B7015117381\n",
      "javascript:;\n",
      "/store/books/look.php?p_code=B7015117381\n",
      "/store/books/look.php?p_code=B7448632539\n",
      "javascript:;\n",
      "/store/books/look.php?p_code=B7448632539\n",
      "/store/books/look.php?p_code=B3148701816\n",
      "/store/books/look.php?p_code=B3148701816\n",
      "/store/books/look.php?p_code=B2591303726\n",
      "/store/books/look.php?p_code=B2591303726\n",
      "/store/books/look.php?p_code=B9602652686\n",
      "javascript:;\n",
      "/store/books/look.php?p_code=B9602652686\n",
      "/store/books/look.php?p_code=B7468885216\n",
      "javascript:;\n",
      "/store/books/look.php?p_code=B7468885216\n",
      "/store/books/look.php?p_code=B1108557246\n",
      "/store/books/look.php?p_code=B1108557246\n",
      "/store/books/look.php?p_code=B9354330938\n",
      "javascript:;\n",
      "/store/books/look.php?p_code=B9354330938\n",
      "/store/books/look.php?p_code=B3006151946\n",
      "/store/books/look.php?p_code=B3006151946\n",
      "/store/books/look.php?p_code=B2388883228\n",
      "/store/books/look.php?p_code=B2388883228\n",
      "/store/books/look.php?p_code=B4766499846\n",
      "/store/books/look.php?p_code=B4766499846\n",
      "/store/books/look.php?p_code=B1904486238\n",
      "/store/books/look.php?p_code=B1904486238\n",
      "/store/books/look.php?p_code=B9380943452\n",
      "javascript:;\n",
      "/store/books/look.php?p_code=B9380943452\n",
      "/store/books/look.php?p_code=B6918140228\n",
      "javascript:;\n",
      "/store/books/look.php?p_code=B6918140228\n",
      "/store/books/look.php?p_code=B3573121629\n",
      "javascript:;\n",
      "/store/books/look.php?p_code=B3573121629\n",
      "/store/books/look.php?p_code=B7132069963\n",
      "/store/books/look.php?p_code=B7132069963\n",
      "/store/books/look.php?p_code=B8742050283\n",
      "/store/books/look.php?p_code=B8742050283\n"
     ]
    }
   ],
   "source": [
    "response = requests.get('http://www.hanbit.co.kr/store/books/new_book_list.html')  # requests.get 을 통해 URL에 대한 정보를 요청\n",
    "root = lxml.html.fromstring(response.content)  # content(html의 문서에 해당하는 부분)를 꺼내서 문자열로 변환하여 root 변수에 저장\n",
    "for a in root.cssselect('.view_box a'):  # 개발자도구에서 ctrl+F로 .view_box a 검색 -> vire_box 클래스 아래의 a링크를 찾음. for문으로 하나씩 꺼내서 a에 넣음 \n",
    "    url = a.get('href')  # a.get으로 href 태그의 URL을 가져옴\n",
    "    print(url)\n",
    "\n",
    "# 원래 20개의 링크만 가져오면 되는데, 처음 .view_box a 를 검색했을 때 59개가 검색됐음.\n",
    "# 그 이유는 나머지 39개가 자바스크립트 관련 링크였기 때문."
   ]
  },
  {
   "cell_type": "code",
   "execution_count": null,
   "metadata": {},
   "outputs": [],
   "source": []
  }
 ],
 "metadata": {
  "kernelspec": {
   "display_name": "Python 3",
   "language": "python",
   "name": "python3"
  },
  "language_info": {
   "codemirror_mode": {
    "name": "ipython",
    "version": 3
   },
   "file_extension": ".py",
   "mimetype": "text/x-python",
   "name": "python",
   "nbconvert_exporter": "python",
   "pygments_lexer": "ipython3",
   "version": "3.8.8"
  }
 },
 "nbformat": 4,
 "nbformat_minor": 4
}
