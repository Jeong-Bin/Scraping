{
 "cells": [
  {
   "cell_type": "code",
   "execution_count": 2,
   "metadata": {},
   "outputs": [],
   "source": [
    "# 160"
   ]
  },
  {
   "cell_type": "markdown",
   "metadata": {},
   "source": [
    "## 고급 웹 크롤러_1\n",
    "- 다음 뉴스 목촐 첫 페이지"
   ]
  },
  {
   "cell_type": "code",
   "execution_count": 3,
   "metadata": {},
   "outputs": [],
   "source": [
    "import requests\n",
    "import lxml.html\n",
    "import pandas as pd\n",
    "import sqlite3\n",
    "from pandas.io import sql\n",
    "import os"
   ]
  },
  {
   "cell_type": "code",
   "execution_count": 4,
   "metadata": {},
   "outputs": [],
   "source": [
    "REG_DATE = '20200819' # 날짜 픽스"
   ]
  },
  {
   "cell_type": "code",
   "execution_count": 5,
   "metadata": {
    "scrolled": true
   },
   "outputs": [
    {
     "name": "stdout",
     "output_type": "stream",
     "text": [
      "https://v.daum.net/v/20200819230943259 RUSSIA SPACE DOGS BELKA AND STRELKA\n",
      "https://v.daum.net/v/20200819230922257 트럼프 \"오라클은 대단한 회사\"..틱톡 인수 지지\n",
      "https://v.daum.net/v/20200819230858252 RUSSIA SPACE DOGS BELKA AND STRELKA\n",
      "https://v.daum.net/v/20200819230757249 RUSSIA SPACE DOGS BELKA AND STRELKA\n",
      "https://v.daum.net/v/20200819230752248 RUSSIA SPACE DOGS BELKA AND STRELKA\n",
      "https://v.daum.net/v/20200819230732247 RUSSIA SPACE DOGS BELKA AND STRELKA\n",
      "https://v.daum.net/v/20200819230639242 한국심리학회 연차학술대회 20~22일 열려\n",
      "https://v.daum.net/v/20200819230626241 RUSSIA SPACE DOGS BELKA AND STRELKA\n",
      "https://v.daum.net/v/20200819230623240 RUSSIA SPACE DOGS BELKA AND STRELKA\n",
      "https://v.daum.net/v/20200819230557231 RUSSIA SPACE DOGS BELKA AND STRELKA\n",
      "https://v.daum.net/v/20200819230516226 RUSSIA SPACE DOGS BELKA AND STRELKA\n",
      "https://v.daum.net/v/20200819230512224 RUSSIA SPACE DOGS BELKA AND STRELKA\n",
      "https://v.daum.net/v/20200819230448221 RUSSIA SPACE DOGS BELKA AND STRELKA\n",
      "https://v.daum.net/v/20200819225027087 글로벌창업사관학교 개교..글로벌 AI기업 육성 주력\n",
      "https://v.daum.net/v/20200819225004085 배틀그라운드, 신규 무기 'MG3'·'교란 수류탄' 추가\n"
     ]
    }
   ],
   "source": [
    "                                                # ? 뒤는 쿼리 스트링(키={값} 구조). URL의 구체적인 정보를 입력 할 수 있음. 포캣팅으로 값에 날짜 대입 \n",
    "response = requests.get('https://news.daum.net/breakingnews/digital?regDate={}'.format(REG_DATE))  \n",
    "root = lxml.html.fromstring(response.content)  # 위의 response를 fromstring을 이용해 문자열 형태로 저장\n",
    "for li in root.xpath('//*[@id=\"mArticle\"]/div[3]/ul/li'):  # 사전에 웹사이트에서 <li>의 Xpath 복붙\n",
    "    a = li.xpath('div/strong/a')[0]  # <li> 하위의 <div> / <strong> / <a> 를 찾음\n",
    "    url = a.get('href')  # <a>의 href 를 get\n",
    "    print(url, a.text)"
   ]
  },
  {
   "cell_type": "code",
   "execution_count": null,
   "metadata": {},
   "outputs": [],
   "source": []
  }
 ],
 "metadata": {
  "kernelspec": {
   "display_name": "Python 3",
   "language": "python",
   "name": "python3"
  },
  "language_info": {
   "codemirror_mode": {
    "name": "ipython",
    "version": 3
   },
   "file_extension": ".py",
   "mimetype": "text/x-python",
   "name": "python",
   "nbconvert_exporter": "python",
   "pygments_lexer": "ipython3",
   "version": "3.8.8"
  }
 },
 "nbformat": 4,
 "nbformat_minor": 4
}
